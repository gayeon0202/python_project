{
 "cells": [
  {
   "cell_type": "code",
   "execution_count": 71,
   "id": "a833b62b",
   "metadata": {},
   "outputs": [],
   "source": [
    "import pandas as pd "
   ]
  },
  {
   "cell_type": "code",
   "execution_count": 72,
   "id": "499bf3b7",
   "metadata": {},
   "outputs": [
    {
     "data": {
      "text/html": [
       "<div>\n",
       "<style scoped>\n",
       "    .dataframe tbody tr th:only-of-type {\n",
       "        vertical-align: middle;\n",
       "    }\n",
       "\n",
       "    .dataframe tbody tr th {\n",
       "        vertical-align: top;\n",
       "    }\n",
       "\n",
       "    .dataframe thead th {\n",
       "        text-align: right;\n",
       "    }\n",
       "</style>\n",
       "<table border=\"1\" class=\"dataframe\">\n",
       "  <thead>\n",
       "    <tr style=\"text-align: right;\">\n",
       "      <th></th>\n",
       "      <th>Name</th>\n",
       "      <th>Address</th>\n",
       "      <th>Tel</th>\n",
       "    </tr>\n",
       "  </thead>\n",
       "  <tbody>\n",
       "    <tr>\n",
       "      <th>0</th>\n",
       "      <td>삼성봉은사거리점</td>\n",
       "      <td>서울시 강남구 영동대로 607 1,2층</td>\n",
       "      <td>02-3443-5618</td>\n",
       "    </tr>\n",
       "    <tr>\n",
       "      <th>1</th>\n",
       "      <td>코엑스웨스틴서울점</td>\n",
       "      <td>서울시 강남구 봉은사로 524 코엑스 인터컨티넨탈아케이드</td>\n",
       "      <td>02-569-3103</td>\n",
       "    </tr>\n",
       "    <tr>\n",
       "      <th>2</th>\n",
       "      <td>삼성오크우드점</td>\n",
       "      <td>서울 강남구 테헤란로87길 46 지하 2층</td>\n",
       "      <td>02-3466-8507</td>\n",
       "    </tr>\n",
       "    <tr>\n",
       "      <th>3</th>\n",
       "      <td>삼성봉은사로점</td>\n",
       "      <td>서울시 강남구 봉은사로 628 엘슨빌딩1층</td>\n",
       "      <td>02-538-4523</td>\n",
       "    </tr>\n",
       "    <tr>\n",
       "      <th>4</th>\n",
       "      <td>도심공항타워점</td>\n",
       "      <td>서울시 강남구 테헤란로87길 36 공항타워 1층</td>\n",
       "      <td>02-2016-5330</td>\n",
       "    </tr>\n",
       "    <tr>\n",
       "      <th>...</th>\n",
       "      <td>...</td>\n",
       "      <td>...</td>\n",
       "      <td>...</td>\n",
       "    </tr>\n",
       "    <tr>\n",
       "      <th>208</th>\n",
       "      <td>강동경희대병원앞점</td>\n",
       "      <td>서울특별시 강동구 동남로 885 양지빌딩 1층</td>\n",
       "      <td>02-481-9938</td>\n",
       "    </tr>\n",
       "    <tr>\n",
       "      <th>209</th>\n",
       "      <td>새문안로점</td>\n",
       "      <td>서울특별시 종로구 새문안로 91 고려빌딩 1,2층</td>\n",
       "      <td>02-739-5806</td>\n",
       "    </tr>\n",
       "    <tr>\n",
       "      <th>210</th>\n",
       "      <td>광화문역1번출구점</td>\n",
       "      <td>서울시 종로구 새문안로5가길 7 1층 일부</td>\n",
       "      <td>02-723-3360</td>\n",
       "    </tr>\n",
       "    <tr>\n",
       "      <th>211</th>\n",
       "      <td>성균관대법학관점</td>\n",
       "      <td>서울시 종로구 성균관로 25-2 성균관대학교 법학관 B2</td>\n",
       "      <td>02-740-1958</td>\n",
       "    </tr>\n",
       "    <tr>\n",
       "      <th>212</th>\n",
       "      <td>경희궁의아침점</td>\n",
       "      <td>서울시 종로구 새문안로3길 23 경희궁아침상가4단지105외</td>\n",
       "      <td>02-730-8896</td>\n",
       "    </tr>\n",
       "  </tbody>\n",
       "</table>\n",
       "<p>213 rows × 3 columns</p>\n",
       "</div>"
      ],
      "text/plain": [
       "          Name                           Address           Tel\n",
       "0     삼성봉은사거리점             서울시 강남구 영동대로 607 1,2층  02-3443-5618\n",
       "1    코엑스웨스틴서울점   서울시 강남구 봉은사로 524 코엑스 인터컨티넨탈아케이드   02-569-3103\n",
       "2      삼성오크우드점           서울 강남구 테헤란로87길 46 지하 2층  02-3466-8507\n",
       "3      삼성봉은사로점           서울시 강남구 봉은사로 628 엘슨빌딩1층   02-538-4523\n",
       "4      도심공항타워점        서울시 강남구 테헤란로87길 36 공항타워 1층  02-2016-5330\n",
       "..         ...                               ...           ...\n",
       "208  강동경희대병원앞점         서울특별시 강동구 동남로 885 양지빌딩 1층   02-481-9938\n",
       "209      새문안로점       서울특별시 종로구 새문안로 91 고려빌딩 1,2층   02-739-5806\n",
       "210  광화문역1번출구점           서울시 종로구 새문안로5가길 7 1층 일부   02-723-3360\n",
       "211   성균관대법학관점   서울시 종로구 성균관로 25-2 성균관대학교 법학관 B2   02-740-1958\n",
       "212    경희궁의아침점  서울시 종로구 새문안로3길 23 경희궁아침상가4단지105외   02-730-8896\n",
       "\n",
       "[213 rows x 3 columns]"
      ]
     },
     "execution_count": 72,
     "metadata": {},
     "output_type": "execute_result"
    }
   ],
   "source": [
    "df = pd.read_csv('커피빈매장.csv')\n",
    "df"
   ]
  },
  {
   "cell_type": "code",
   "execution_count": 73,
   "id": "c4cf2744",
   "metadata": {},
   "outputs": [],
   "source": [
    "import requests\n",
    "import numpy as np"
   ]
  },
  {
   "cell_type": "code",
   "execution_count": 74,
   "id": "e2e23d5b",
   "metadata": {},
   "outputs": [],
   "source": [
    "def get_location(address):\n",
    "    url='https://dapi.kakao.com/v2/local/search/address.json?query='+address\n",
    "    headers = {'Authorization': 'KakaoAK ad98eb58dd8030d6ea2e0281bdbe5bca'}\n",
    "    res = requests.get(url, headers=headers).json()\n",
    "    if res['documents']:\n",
    "        x = res['documents'][0]['x']\n",
    "        y = res['documents'][0]['y']\n",
    "    else:\n",
    "        x = np.nan\n",
    "        y = np.nan\n",
    "    return x, y"
   ]
  },
  {
   "cell_type": "code",
   "execution_count": 75,
   "id": "bf31e26a",
   "metadata": {},
   "outputs": [
    {
     "data": {
      "text/plain": [
       "('127.059486615422', '37.5145473024381')"
      ]
     },
     "execution_count": 75,
     "metadata": {},
     "output_type": "execute_result"
    }
   ],
   "source": [
    "x, y=get_location('서울시 강남구 영동대로 607')\n",
    "x,y"
   ]
  },
  {
   "cell_type": "code",
   "execution_count": 76,
   "id": "4080140b",
   "metadata": {},
   "outputs": [
    {
     "data": {
      "text/html": [
       "<div>\n",
       "<style scoped>\n",
       "    .dataframe tbody tr th:only-of-type {\n",
       "        vertical-align: middle;\n",
       "    }\n",
       "\n",
       "    .dataframe tbody tr th {\n",
       "        vertical-align: top;\n",
       "    }\n",
       "\n",
       "    .dataframe thead th {\n",
       "        text-align: right;\n",
       "    }\n",
       "</style>\n",
       "<table border=\"1\" class=\"dataframe\">\n",
       "  <thead>\n",
       "    <tr style=\"text-align: right;\">\n",
       "      <th></th>\n",
       "      <th>Name</th>\n",
       "      <th>Address</th>\n",
       "      <th>Tel</th>\n",
       "      <th>X</th>\n",
       "      <th>Y</th>\n",
       "    </tr>\n",
       "  </thead>\n",
       "  <tbody>\n",
       "    <tr>\n",
       "      <th>0</th>\n",
       "      <td>삼성봉은사거리점</td>\n",
       "      <td>서울시 강남구 영동대로 607 1,2층</td>\n",
       "      <td>02-3443-5618</td>\n",
       "      <td></td>\n",
       "      <td></td>\n",
       "    </tr>\n",
       "    <tr>\n",
       "      <th>1</th>\n",
       "      <td>코엑스웨스틴서울점</td>\n",
       "      <td>서울시 강남구 봉은사로 524 코엑스 인터컨티넨탈아케이드</td>\n",
       "      <td>02-569-3103</td>\n",
       "      <td></td>\n",
       "      <td></td>\n",
       "    </tr>\n",
       "  </tbody>\n",
       "</table>\n",
       "</div>"
      ],
      "text/plain": [
       "        Name                          Address           Tel X Y\n",
       "0   삼성봉은사거리점            서울시 강남구 영동대로 607 1,2층  02-3443-5618    \n",
       "1  코엑스웨스틴서울점  서울시 강남구 봉은사로 524 코엑스 인터컨티넨탈아케이드   02-569-3103    "
      ]
     },
     "execution_count": 76,
     "metadata": {},
     "output_type": "execute_result"
    }
   ],
   "source": [
    "store = pd.read_csv('커피빈매장.csv')\n",
    "store['X'] = ''\n",
    "store['Y'] = ''\n",
    "store.head(2)"
   ]
  },
  {
   "cell_type": "code",
   "execution_count": 77,
   "id": "8fabb6be",
   "metadata": {},
   "outputs": [],
   "source": [
    "for i in store.index:\n",
    "    address = store.loc[i, 'Address']\n",
    "    x,y =get_location(address)\n",
    "    store.loc[i, 'X']=x\n",
    "    store.loc[i, 'Y']=y\n"
   ]
  },
  {
   "cell_type": "code",
   "execution_count": 78,
   "id": "efd8346b",
   "metadata": {},
   "outputs": [],
   "source": [
    "store.isnull().sum()\n",
    "store.dropna(inplace=True)"
   ]
  },
  {
   "cell_type": "code",
   "execution_count": 79,
   "id": "f98017e1",
   "metadata": {},
   "outputs": [
    {
     "data": {
      "text/plain": [
       "Name       0\n",
       "Address    0\n",
       "Tel        0\n",
       "X          0\n",
       "Y          0\n",
       "dtype: int64"
      ]
     },
     "execution_count": 79,
     "metadata": {},
     "output_type": "execute_result"
    }
   ],
   "source": [
    "store.isnull().sum()"
   ]
  },
  {
   "cell_type": "code",
   "execution_count": null,
   "id": "c0b45723",
   "metadata": {},
   "outputs": [],
   "source": []
  },
  {
   "cell_type": "code",
   "execution_count": 80,
   "id": "acb556e9",
   "metadata": {},
   "outputs": [
    {
     "data": {
      "text/html": [
       "<div>\n",
       "<style scoped>\n",
       "    .dataframe tbody tr th:only-of-type {\n",
       "        vertical-align: middle;\n",
       "    }\n",
       "\n",
       "    .dataframe tbody tr th {\n",
       "        vertical-align: top;\n",
       "    }\n",
       "\n",
       "    .dataframe thead th {\n",
       "        text-align: right;\n",
       "    }\n",
       "</style>\n",
       "<table border=\"1\" class=\"dataframe\">\n",
       "  <thead>\n",
       "    <tr style=\"text-align: right;\">\n",
       "      <th></th>\n",
       "      <th>Name</th>\n",
       "      <th>Address</th>\n",
       "      <th>Tel</th>\n",
       "      <th>X</th>\n",
       "      <th>Y</th>\n",
       "    </tr>\n",
       "  </thead>\n",
       "  <tbody>\n",
       "    <tr>\n",
       "      <th>1</th>\n",
       "      <td>코엑스웨스틴서울점</td>\n",
       "      <td>서울시 강남구 봉은사로 524 코엑스 인터컨티넨탈아케이드</td>\n",
       "      <td>02-569-3103</td>\n",
       "      <td>127.057115600619</td>\n",
       "      <td>37.5129534255276</td>\n",
       "    </tr>\n",
       "    <tr>\n",
       "      <th>2</th>\n",
       "      <td>삼성오크우드점</td>\n",
       "      <td>서울 강남구 테헤란로87길 46 지하 2층</td>\n",
       "      <td>02-3466-8507</td>\n",
       "      <td>127.058205573267</td>\n",
       "      <td>37.5109823973192</td>\n",
       "    </tr>\n",
       "    <tr>\n",
       "      <th>3</th>\n",
       "      <td>삼성봉은사로점</td>\n",
       "      <td>서울시 강남구 봉은사로 628 엘슨빌딩1층</td>\n",
       "      <td>02-538-4523</td>\n",
       "      <td>127.064164448221</td>\n",
       "      <td>37.5146694627537</td>\n",
       "    </tr>\n",
       "    <tr>\n",
       "      <th>4</th>\n",
       "      <td>도심공항타워점</td>\n",
       "      <td>서울시 강남구 테헤란로87길 36 공항타워 1층</td>\n",
       "      <td>02-2016-5330</td>\n",
       "      <td>127.058597240146</td>\n",
       "      <td>37.5102336492314</td>\n",
       "    </tr>\n",
       "    <tr>\n",
       "      <th>5</th>\n",
       "      <td>트레이드타워점</td>\n",
       "      <td>서울시 강남구 영동대로 511 트레이드타워 지하1층</td>\n",
       "      <td>02-803-9994</td>\n",
       "      <td>127.061023782931</td>\n",
       "      <td>37.510356849269</td>\n",
       "    </tr>\n",
       "  </tbody>\n",
       "</table>\n",
       "</div>"
      ],
      "text/plain": [
       "        Name                          Address           Tel                 X  \\\n",
       "1  코엑스웨스틴서울점  서울시 강남구 봉은사로 524 코엑스 인터컨티넨탈아케이드   02-569-3103  127.057115600619   \n",
       "2    삼성오크우드점          서울 강남구 테헤란로87길 46 지하 2층  02-3466-8507  127.058205573267   \n",
       "3    삼성봉은사로점          서울시 강남구 봉은사로 628 엘슨빌딩1층   02-538-4523  127.064164448221   \n",
       "4    도심공항타워점       서울시 강남구 테헤란로87길 36 공항타워 1층  02-2016-5330  127.058597240146   \n",
       "5    트레이드타워점     서울시 강남구 영동대로 511 트레이드타워 지하1층   02-803-9994  127.061023782931   \n",
       "\n",
       "                  Y  \n",
       "1  37.5129534255276  \n",
       "2  37.5109823973192  \n",
       "3  37.5146694627537  \n",
       "4  37.5102336492314  \n",
       "5   37.510356849269  "
      ]
     },
     "execution_count": 80,
     "metadata": {},
     "output_type": "execute_result"
    }
   ],
   "source": [
    "store.head(5)"
   ]
  },
  {
   "cell_type": "code",
   "execution_count": 95,
   "id": "b67be197",
   "metadata": {},
   "outputs": [],
   "source": [
    "store.to_csv('커피빈맵.csv',index=False)"
   ]
  },
  {
   "cell_type": "code",
   "execution_count": 96,
   "id": "dccd896b",
   "metadata": {},
   "outputs": [
    {
     "data": {
      "text/plain": [
       "<bound method NDFrame.head of      Unnamed: 0       Name                           Address           Tel  \\\n",
       "0             1  코엑스웨스틴서울점   서울시 강남구 봉은사로 524 코엑스 인터컨티넨탈아케이드   02-569-3103   \n",
       "1             2    삼성오크우드점           서울 강남구 테헤란로87길 46 지하 2층  02-3466-8507   \n",
       "2             3    삼성봉은사로점           서울시 강남구 봉은사로 628 엘슨빌딩1층   02-538-4523   \n",
       "3             4    도심공항타워점        서울시 강남구 테헤란로87길 36 공항타워 1층  02-2016-5330   \n",
       "4             5    트레이드타워점      서울시 강남구 영동대로 511 트레이드타워 지하1층   02-803-9994   \n",
       "..          ...        ...                               ...           ...   \n",
       "189         208  강동경희대병원앞점         서울특별시 강동구 동남로 885 양지빌딩 1층   02-481-9938   \n",
       "190         209      새문안로점       서울특별시 종로구 새문안로 91 고려빌딩 1,2층   02-739-5806   \n",
       "191         210  광화문역1번출구점           서울시 종로구 새문안로5가길 7 1층 일부   02-723-3360   \n",
       "192         211   성균관대법학관점   서울시 종로구 성균관로 25-2 성균관대학교 법학관 B2   02-740-1958   \n",
       "193         212    경희궁의아침점  서울시 종로구 새문안로3길 23 경희궁아침상가4단지105외   02-730-8896   \n",
       "\n",
       "              X          Y  \n",
       "0    127.057116  37.512953  \n",
       "1    127.058206  37.510982  \n",
       "2    127.064164  37.514669  \n",
       "3    127.058597  37.510234  \n",
       "4    127.061024  37.510357  \n",
       "..          ...        ...  \n",
       "189  127.155976  37.552654  \n",
       "190  126.974761  37.570488  \n",
       "191  126.974038  37.572771  \n",
       "192  126.993115  37.587228  \n",
       "193  126.972441  37.572631  \n",
       "\n",
       "[194 rows x 6 columns]>"
      ]
     },
     "execution_count": 96,
     "metadata": {},
     "output_type": "execute_result"
    }
   ],
   "source": [
    "store = pd.read_csv('커피빈맵.csv')\n",
    "store.head"
   ]
  },
  {
   "cell_type": "code",
   "execution_count": 92,
   "id": "4001d9a5",
   "metadata": {},
   "outputs": [],
   "source": [
    "store.to_csv('커피빈맵.csv', index=False)"
   ]
  },
  {
   "cell_type": "code",
   "execution_count": 93,
   "id": "6d0c59fb",
   "metadata": {},
   "outputs": [],
   "source": [
    "address = '인천'\n",
    "filt = store['Address'].str.contains(address)\n",
    "df = store[filt]"
   ]
  },
  {
   "cell_type": "code",
   "execution_count": 101,
   "id": "e02ed5c6",
   "metadata": {},
   "outputs": [],
   "source": [
    "import folium\n",
    "import warnings\n",
    "\n",
    "def get_map(address):\n",
    "    filt = store['Address'].str.contains(address)\n",
    "    df = store[filt]\n",
    "    if len(df.index)==0:\n",
    "        print('못찾음')\n",
    "    else:\n",
    "        first = df.head(1)\n",
    "        x = first['X']\n",
    "        y = first['Y']\n",
    "        map = folium.Map(location=[y,x], zoom_start=15)\n",
    "        for idx, row in df.iterrows():\n",
    "            name = row['Name']\n",
    "            x = row['X']\n",
    "            y = row['Y']\n",
    "            folium.Marker(location=[y,x], \n",
    "                          popup=folium.Popup(f'[{idx}]name', max_width=200),\n",
    "                          icon=folium.Icon(color='red', icon='star')).add_to(map)\n",
    "        map.save(f'{address}.html')\n",
    "\n",
    "\n",
    "get_map('광명')"
   ]
  },
  {
   "cell_type": "code",
   "execution_count": null,
   "id": "546ef8db",
   "metadata": {},
   "outputs": [],
   "source": []
  },
  {
   "cell_type": "code",
   "execution_count": null,
   "id": "cd9a37ea",
   "metadata": {},
   "outputs": [],
   "source": []
  }
 ],
 "metadata": {
  "kernelspec": {
   "display_name": "Python 3",
   "language": "python",
   "name": "python3"
  },
  "language_info": {
   "codemirror_mode": {
    "name": "ipython",
    "version": 3
   },
   "file_extension": ".py",
   "mimetype": "text/x-python",
   "name": "python",
   "nbconvert_exporter": "python",
   "pygments_lexer": "ipython3",
   "version": "3.10.10"
  }
 },
 "nbformat": 4,
 "nbformat_minor": 5
}
